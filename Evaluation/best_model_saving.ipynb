{
 "cells": [
  {
   "cell_type": "code",
   "execution_count": 11,
   "id": "db2fa9f3",
   "metadata": {},
   "outputs": [
    {
     "name": "stdout",
     "output_type": "stream",
     "text": [
      "✅ Logistic Regression model.pkl and scaler.pkl saved successfully\n"
     ]
    }
   ],
   "source": [
    "# 📌 Step 1: Import Libraries\n",
    "import pandas as pd\n",
    "import joblib\n",
    "from sklearn.model_selection import train_test_split\n",
    "from sklearn.preprocessing import StandardScaler\n",
    "from sklearn.linear_model import LogisticRegression\n",
    "\n",
    "# 📌 Step 2: Load Preprocessed Data\n",
    "df = pd.read_csv('../Data/preprocessed_data.csv')\n",
    "\n",
    "X = df.drop('Disease_Outbreak', axis=1)\n",
    "y = df['Disease_Outbreak']\n",
    "\n",
    "# 📌 Step 3: Split Data\n",
    "X_train, X_test, y_train, y_test = train_test_split(X, y, test_size=0.2, random_state=42, stratify=y)\n",
    "\n",
    "# 📌 Step 4: Scaling\n",
    "scaler = StandardScaler()\n",
    "X_train_scaled = scaler.fit_transform(X_train)\n",
    "X_test_scaled = scaler.transform(X_test)\n",
    "\n",
    "# 📌 Step 5: Train Logistic Regression\n",
    "best_model = LogisticRegression(max_iter=1000, random_state=42)\n",
    "best_model.fit(X_train_scaled, y_train)\n",
    "\n",
    "# 📌 Step 6: Save both model and scaler\n",
    "joblib.dump(best_model, '../App/model/model.pkl')\n",
    "joblib.dump(scaler, '../App/model/scaler.pkl')  # ✅ Must Save Scaler\n",
    "print(\"✅ Logistic Regression model.pkl and scaler.pkl saved successfully\")\n"
   ]
  }
 ],
 "metadata": {
  "kernelspec": {
   "display_name": "disease",
   "language": "python",
   "name": "python3"
  },
  "language_info": {
   "codemirror_mode": {
    "name": "ipython",
    "version": 3
   },
   "file_extension": ".py",
   "mimetype": "text/x-python",
   "name": "python",
   "nbconvert_exporter": "python",
   "pygments_lexer": "ipython3",
   "version": "3.13.5"
  }
 },
 "nbformat": 4,
 "nbformat_minor": 5
}
